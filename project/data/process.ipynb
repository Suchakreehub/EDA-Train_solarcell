{
 "cells": [
  {
   "cell_type": "code",
   "execution_count": 5,
   "metadata": {},
   "outputs": [
    {
     "ename": "FileNotFoundError",
     "evalue": "[Errno 2] No such file or directory: 'randomforrest.pkl'",
     "output_type": "error",
     "traceback": [
      "\u001b[1;31m---------------------------------------------------------------------------\u001b[0m",
      "\u001b[1;31mFileNotFoundError\u001b[0m                         Traceback (most recent call last)",
      "Cell \u001b[1;32mIn[5], line 6\u001b[0m\n\u001b[0;32m      4\u001b[0m \u001b[38;5;66;03m# โหลดโมเดลที่บันทึกไว้\u001b[39;00m\n\u001b[0;32m      5\u001b[0m model_path \u001b[38;5;241m=\u001b[39m \u001b[38;5;124m\"\u001b[39m\u001b[38;5;124mrandomforrest.pkl\u001b[39m\u001b[38;5;124m\"\u001b[39m  \u001b[38;5;66;03m# ใช้พาธที่ถูกต้อง\u001b[39;00m\n\u001b[1;32m----> 6\u001b[0m rf_model \u001b[38;5;241m=\u001b[39m joblib\u001b[38;5;241m.\u001b[39mload(model_path)\n\u001b[0;32m      8\u001b[0m \u001b[38;5;66;03m# โหลดไฟล์ข้อมูลใหม่ (แทนที่ 'new_data.xlsx' ด้วยชื่อไฟล์จริง)\u001b[39;00m\n\u001b[0;32m      9\u001b[0m data_path \u001b[38;5;241m=\u001b[39m \u001b[38;5;124m\"\u001b[39m\u001b[38;5;124mnewest_data.xlsx\u001b[39m\u001b[38;5;124m\"\u001b[39m  \u001b[38;5;66;03m# เปลี่ยนเป็นไฟล์จริงที่ใช้\u001b[39;00m\n",
      "File \u001b[1;32mc:\\Users\\Acer\\anaconda3\\Lib\\site-packages\\joblib\\numpy_pickle.py:650\u001b[0m, in \u001b[0;36mload\u001b[1;34m(filename, mmap_mode)\u001b[0m\n\u001b[0;32m    648\u001b[0m         obj \u001b[38;5;241m=\u001b[39m _unpickle(fobj)\n\u001b[0;32m    649\u001b[0m \u001b[38;5;28;01melse\u001b[39;00m:\n\u001b[1;32m--> 650\u001b[0m     \u001b[38;5;28;01mwith\u001b[39;00m \u001b[38;5;28mopen\u001b[39m(filename, \u001b[38;5;124m'\u001b[39m\u001b[38;5;124mrb\u001b[39m\u001b[38;5;124m'\u001b[39m) \u001b[38;5;28;01mas\u001b[39;00m f:\n\u001b[0;32m    651\u001b[0m         \u001b[38;5;28;01mwith\u001b[39;00m _read_fileobject(f, filename, mmap_mode) \u001b[38;5;28;01mas\u001b[39;00m fobj:\n\u001b[0;32m    652\u001b[0m             \u001b[38;5;28;01mif\u001b[39;00m \u001b[38;5;28misinstance\u001b[39m(fobj, \u001b[38;5;28mstr\u001b[39m):\n\u001b[0;32m    653\u001b[0m                 \u001b[38;5;66;03m# if the returned file object is a string, this means we\u001b[39;00m\n\u001b[0;32m    654\u001b[0m                 \u001b[38;5;66;03m# try to load a pickle file generated with an version of\u001b[39;00m\n\u001b[0;32m    655\u001b[0m                 \u001b[38;5;66;03m# Joblib so we load it with joblib compatibility function.\u001b[39;00m\n",
      "\u001b[1;31mFileNotFoundError\u001b[0m: [Errno 2] No such file or directory: 'randomforrest.pkl'"
     ]
    }
   ],
   "source": [
    "import joblib\n",
    "import pandas as pd\n",
    "\n",
    "# โหลดโมเดลที่บันทึกไว้\n",
    "model_path = \"randomforrest.pkl\"  # ใช้พาธที่ถูกต้อง\n",
    "rf_model = joblib.load(model_path)\n",
    "\n",
    "# โหลดไฟล์ข้อมูลใหม่ (แทนที่ 'new_data.xlsx' ด้วยชื่อไฟล์จริง)\n",
    "data_path = \"newest_data.xlsx\"  # เปลี่ยนเป็นไฟล์จริงที่ใช้\n",
    "df = pd.read_excel(data_path)  # ใช้ pd.read_csv() ถ้าเป็น CSV\n",
    "\n",
    "# เลือกเฉพาะคอลัมน์ที่ใช้ทำนาย (ต้องตรงกับตอนฝึกโมเดล)\n",
    "features = ['PV_input_current(A)', 'PV_input_voltage(V)', 'Ambient_temp', \n",
    "            'Irradiance', 'PV_temp', 'PV_no.']\n",
    "\n",
    "df_test = df[features]  # ใช้เฉพาะฟีเจอร์ที่ใช้ฝึกโมเดล\n",
    "\n",
    "# ทำนายค่าความผิดปกติ\n",
    "df[\"Anomaly_Prediction\"] = rf_model.predict(df_test)\n",
    "\n",
    "# แสดงผลลัพธ์\n",
    "print(df.head())"
   ]
  }
 ],
 "metadata": {
  "kernelspec": {
   "display_name": "base",
   "language": "python",
   "name": "python3"
  },
  "language_info": {
   "codemirror_mode": {
    "name": "ipython",
    "version": 3
   },
   "file_extension": ".py",
   "mimetype": "text/x-python",
   "name": "python",
   "nbconvert_exporter": "python",
   "pygments_lexer": "ipython3",
   "version": "3.12.4"
  }
 },
 "nbformat": 4,
 "nbformat_minor": 2
}
